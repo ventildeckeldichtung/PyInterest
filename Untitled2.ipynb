{
 "cells": [
  {
   "cell_type": "code",
   "execution_count": 19,
   "id": "3c1515a4",
   "metadata": {},
   "outputs": [
    {
     "name": "stdout",
     "output_type": "stream",
     "text": [
      "Zinsen bezahlt:69252.98786776542\n",
      "Monate: 230\n",
      "Jahre: 19.166666666666668\n",
      "Zinsen pro Monat: 301.099947251154\n"
     ]
    }
   ],
   "source": [
    "interest = 0.04\n",
    "monthlyinterest = interest / 12\n",
    "payment = 1000\n",
    "time = 120\n",
    "balance = 160000\n",
    "n = 0\n",
    "interest_paid = 0\n",
    "while True:\n",
    "    if (balance * monthlyinterest) >= payment:\n",
    "        break\n",
    "    balance = balance + (balance * monthlyinterest)\n",
    "    interest_paid = interest_paid + (balance * monthlyinterest)\n",
    "    balance = balance - payment\n",
    "    n = n + 1\n",
    "    if balance < 0:\n",
    "        break\n",
    "        \n",
    "print(\"Zinsen bezahlt:\" + str(interest_paid))\n",
    "print(\"Monate: \" + str(n))\n",
    "print(\"Jahre: \" + str(n/12))\n",
    "print(\"Zinsen pro Monat: \" + str(interest_paid / n))\n",
    "instandhaltung = 300\n",
    "verischerung = 20\n",
    "muell = 10"
   ]
  },
  {
   "cell_type": "code",
   "execution_count": 14,
   "id": "b59f77c0",
   "metadata": {},
   "outputs": [],
   "source": [
    "interest = 0.04\n",
    "monthlyinterest = interest / 12\n",
    "payment = 1200\n",
    "time = 120\n",
    "balance = 150000\n",
    "n = 0\n",
    "interest_paid = 0\n"
   ]
  },
  {
   "cell_type": "code",
   "execution_count": 15,
   "id": "f34cd22a",
   "metadata": {},
   "outputs": [
    {
     "data": {
      "text/plain": [
       "275000"
      ]
     },
     "execution_count": 15,
     "metadata": {},
     "output_type": "execute_result"
    }
   ],
   "source": [
    "250000+25000"
   ]
  }
 ],
 "metadata": {
  "kernelspec": {
   "display_name": "Python 3 (ipykernel)",
   "language": "python",
   "name": "python3"
  },
  "language_info": {
   "codemirror_mode": {
    "name": "ipython",
    "version": 3
   },
   "file_extension": ".py",
   "mimetype": "text/x-python",
   "name": "python",
   "nbconvert_exporter": "python",
   "pygments_lexer": "ipython3",
   "version": "3.9.12"
  }
 },
 "nbformat": 4,
 "nbformat_minor": 5
}
